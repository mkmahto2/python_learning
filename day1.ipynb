{
 "cells": [
  {
   "cell_type": "markdown",
   "metadata": {},
   "source": [
    "# Wap to check if a number is prime or not"
   ]
  },
  {
   "cell_type": "code",
   "execution_count": 5,
   "metadata": {},
   "outputs": [
    {
     "name": "stdout",
     "output_type": "stream",
     "text": [
      "78 number is not prime\n"
     ]
    }
   ],
   "source": [
    "num = int(input(\"enter a number\"))\n",
    "# define a flag variable\n",
    "flag = False\n",
    "\n",
    "if num > 1:\n",
    "    for i in range (2, num):\n",
    "        if(num % i ==0):\n",
    "            flag = True\n",
    "            # break the loop\n",
    "            break\n",
    "\n",
    "if flag:\n",
    "    print(\"{} number is not prime\".format(num))\n",
    "else:\n",
    "    print(\"{} number is prime \".format(num))\n"
   ]
  },
  {
   "cell_type": "markdown",
   "metadata": {},
   "source": [
    "# Wap to check all prime number in range "
   ]
  },
  {
   "cell_type": "code",
   "execution_count": 7,
   "metadata": {},
   "outputs": [
    {
     "name": "stdout",
     "output_type": "stream",
     "text": [
      "Prime number between 2 and  100 are\n",
      "2\n",
      "3\n",
      "5\n",
      "7\n",
      "11\n",
      "13\n",
      "17\n",
      "19\n",
      "23\n",
      "29\n",
      "31\n",
      "37\n",
      "41\n",
      "43\n",
      "47\n",
      "53\n",
      "59\n",
      "61\n",
      "67\n",
      "71\n",
      "73\n",
      "79\n",
      "83\n",
      "89\n",
      "97\n"
     ]
    }
   ],
   "source": [
    "start = int(input(\"enter the start number : \"))\n",
    "last = int(input(\"enter the last number : \"))\n",
    "print(\"Prime number between\",start,\"and \",last,\"are\")\n",
    "\n",
    "for num in range(start,last+1):\n",
    "    if num >1:\n",
    "        for i in range(2,num):\n",
    "            if (num%i==0):\n",
    "                break\n",
    "        else:\n",
    "            print(num)"
   ]
  },
  {
   "cell_type": "markdown",
   "metadata": {},
   "source": [
    "# Wap to find the armstrong number"
   ]
  },
  {
   "cell_type": "code",
   "execution_count": 11,
   "metadata": {},
   "outputs": [],
   "source": [
    "start = 100\n",
    "last = 2000\n",
    "\n",
    "for num in range(start,last+1):\n",
    "    # order of number\n",
    "    order = len(str(num))\n",
    "\n",
    "    # initialise the sum\n",
    "    sum = 0\n",
    "    temp = num\n",
    "    while temp > 0:\n",
    "        digit = temp % 10\n",
    "        sum += digit ** order\n",
    "        temp //=10\n",
    "\n",
    "if num == sum:\n",
    "    print(num)\n"
   ]
  },
  {
   "cell_type": "code",
   "execution_count": 12,
   "metadata": {},
   "outputs": [
    {
     "name": "stdout",
     "output_type": "stream",
     "text": [
      "the factor of  90 are\n",
      "1\n",
      "2\n",
      "3\n",
      "5\n",
      "6\n",
      "9\n",
      "10\n",
      "15\n",
      "18\n",
      "30\n",
      "45\n",
      "90\n"
     ]
    }
   ],
   "source": [
    "# find the factor of number\n",
    "\n",
    "def print_fact(x):\n",
    "\n",
    "    print(\"the factor of \",x, \"are\")\n",
    "\n",
    "    for i in range(1,x+1):\n",
    "        if x % i == 0:\n",
    "            print(i)\n",
    "\n",
    "num =90\n",
    "\n",
    "print_fact(num)"
   ]
  },
  {
   "cell_type": "code",
   "execution_count": 19,
   "metadata": {},
   "outputs": [
    {
     "data": {
      "text/plain": [
       "100"
      ]
     },
     "execution_count": 19,
     "metadata": {},
     "output_type": "execute_result"
    }
   ],
   "source": [
    "# program to find the HCF of number\n",
    "\n",
    "def compute_hcf(x,y):\n",
    "    #choose the smaller number\n",
    "\n",
    "    if x > y:\n",
    "        smaller=y\n",
    "    else:\n",
    "        smaller = x\n",
    "\n",
    "    for i in range(1,smaller+1):\n",
    "        if (x%i ==0) and (y%i==0):\n",
    "            hcf=i\n",
    "\n",
    "    return hcf\n",
    "\n",
    "num1 = 100\n",
    "\n",
    "num2 = 500\n",
    "compute_hcf(num1,num2)"
   ]
  },
  {
   "cell_type": "markdown",
   "metadata": {},
   "source": [
    "# HCF through Euclidian number\n",
    "\n"
   ]
  },
  {
   "cell_type": "code",
   "execution_count": 18,
   "metadata": {},
   "outputs": [
    {
     "data": {
      "text/plain": [
       "8"
      ]
     },
     "execution_count": 18,
     "metadata": {},
     "output_type": "execute_result"
    }
   ],
   "source": [
    "def hcf_euc(x,y):\n",
    "    while(y):\n",
    "        x,y=y,x%y\n",
    "    return x\n",
    "num1=64\n",
    "num2 = 24\n",
    "\n",
    "hcf_euc(num1,num2)"
   ]
  },
  {
   "cell_type": "markdown",
   "metadata": {},
   "source": [
    "# find the LCM"
   ]
  },
  {
   "cell_type": "code",
   "execution_count": 24,
   "metadata": {},
   "outputs": [
    {
     "name": "stdout",
     "output_type": "stream",
     "text": [
      "lcm of 54 and 24 is 216\n"
     ]
    }
   ],
   "source": [
    "def lcm(x,y):\n",
    "    if x>y:\n",
    "        greater = x\n",
    "    else:\n",
    "        greater= y\n",
    "\n",
    "    while(True):\n",
    "        if((greater%x ==0) and (greater%y == 0)):\n",
    "            lcm = greater\n",
    "            break\n",
    "        greater+=1\n",
    "\n",
    "    return lcm\n",
    "\n",
    "num1=54\n",
    "num2 =24\n",
    "\n",
    "\n",
    "print(\"lcm of\",num1,\"and\",num2 ,\"is\",lcm(num1,num2))\n",
    "\n"
   ]
  },
  {
   "cell_type": "markdown",
   "metadata": {},
   "source": [
    "# wap to find the greater number from the three number."
   ]
  },
  {
   "cell_type": "code",
   "execution_count": 26,
   "metadata": {},
   "outputs": [
    {
     "name": "stdout",
     "output_type": "stream",
     "text": [
      "the largsest  is 34.0\n"
     ]
    }
   ],
   "source": [
    "num1=float(input(\"enter num1 value: \"))\n",
    "num2=float(input(\"enter num2 value: \"))\n",
    "num3=float(input(\"enter num3 value: \"))\n",
    "\n",
    "if (num1>=num2) and (num1>=num3):\n",
    "    largest = num1\n",
    "elif (num2>=num1) and (num2>=num3):\n",
    "    largest=num2\n",
    "else:\n",
    "    largest=num3\n",
    "\n",
    "print(\"the largsest  is\",largest)"
   ]
  },
  {
   "cell_type": "markdown",
   "metadata": {},
   "source": [
    "# WAP simple calculator using function\n",
    "\n"
   ]
  },
  {
   "cell_type": "code",
   "execution_count": 27,
   "metadata": {},
   "outputs": [
    {
     "name": "stdout",
     "output_type": "stream",
     "text": [
      "*** Select Your Opertion***\n",
      "1. Add\n",
      "2. sub\n",
      "3. mul\n",
      "4. div\n",
      "23.0 * 34.0 = 782.0\n"
     ]
    }
   ],
   "source": [
    "# add function\n",
    "\n",
    "def add(x,y):\n",
    "    return x+y\n",
    "# function subtract\n",
    "\n",
    "def sub(x,y):\n",
    "    return x-y\n",
    "#function multiply\n",
    "def  mul(x,y):\n",
    "    return x*y\n",
    "#function to devide\n",
    "def div(x,y):\n",
    "    return x/y\n",
    "\n",
    "print(\"*** Select Your Opertion***\")\n",
    "print(\"1. Add\")\n",
    "print(\"2. sub\")\n",
    "print(\"3. mul\")\n",
    "print(\"4. div\")\n",
    "\n",
    "while(\"True\"):\n",
    "    # take input from the user\n",
    "    choice = input(\"enter the choice (1/2/3/4):\")\n",
    "\n",
    "    if choice in ('1','2','3','4'):\n",
    "        num1 = float(input(\"enter the num1\"))\n",
    "        num2 =float(input(\"enter the number 2\"))\n",
    "\n",
    "        if choice == '1':\n",
    "            print(num1,\"+\",num2,\"=\",add(num1,num2))\n",
    "        elif choice == '2':\n",
    "            print(num1,\"-\",num2,\"=\",sub(num1,num2))\n",
    "        elif choice == '3':\n",
    "            print(num1,\"*\",num2,\"=\",mul(num1,num2))\n",
    "        elif choice == '4':\n",
    "            print(num1,\"/\",num2,\"=\",div(num1,num2))\n",
    "\n",
    "    nxt_calculation = input(\"lets do next calculation? (yes/no): \")\n",
    "\n",
    "    if nxt_calculation == \"no\":\n",
    "        break\n",
    "    else:\n",
    "        print(\"Invalid Input\")\n",
    "\n",
    "\n",
    "        \n",
    "\n",
    "\n",
    "\n",
    "    "
   ]
  },
  {
   "cell_type": "markdown",
   "metadata": {},
   "source": [
    "# WAP celsius to fahrenheit \n",
    "\n",
    "f = c *1.8+32\n"
   ]
  },
  {
   "cell_type": "code",
   "execution_count": 32,
   "metadata": {},
   "outputs": [
    {
     "name": "stdout",
     "output_type": "stream",
     "text": [
      "100.00 degree celsius is equal to 212.00 degree fahrenheit\n"
     ]
    }
   ],
   "source": [
    "c = float(input(\"enter the celsius number to fehrenheit: \"))\n",
    "f = (c*1.8)+32\n",
    "print(\"%0.2f degree celsius is equal to %0.2f degree fahrenheit\" %(c,f))\n",
    "\n"
   ]
  },
  {
   "cell_type": "markdown",
   "metadata": {},
   "source": [
    "# WAP fahrenheit to celsius\n",
    "\n",
    "c = (f-32)/1.8\n",
    "\n"
   ]
  },
  {
   "cell_type": "code",
   "execution_count": 33,
   "metadata": {},
   "outputs": [
    {
     "name": "stdout",
     "output_type": "stream",
     "text": [
      "212.00 degree fahrenheit is equal to 100.00 degree celsius \n"
     ]
    }
   ],
   "source": [
    "f = float(input(\"enter the fahrenheit value: \"))\n",
    "c = (f-32)/1.8\n",
    "print(\"%0.2f degree fahrenheit is equal to %0.2f degree celsius \" %(f,c))"
   ]
  }
 ],
 "metadata": {
  "kernelspec": {
   "display_name": "Python 3.10.7 64-bit",
   "language": "python",
   "name": "python3"
  },
  "language_info": {
   "codemirror_mode": {
    "name": "ipython",
    "version": 3
   },
   "file_extension": ".py",
   "mimetype": "text/x-python",
   "name": "python",
   "nbconvert_exporter": "python",
   "pygments_lexer": "ipython3",
   "version": "3.10.7"
  },
  "orig_nbformat": 4,
  "vscode": {
   "interpreter": {
    "hash": "8193cb783793d6c81a867ab758d898e3cad818d8c97774e91aa1476c45ed8f98"
   }
  }
 },
 "nbformat": 4,
 "nbformat_minor": 2
}
